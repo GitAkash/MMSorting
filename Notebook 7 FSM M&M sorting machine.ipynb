{
 "cells": [
  {
   "cell_type": "markdown",
   "id": "8d02d2d6-d453-4c9b-98e5-561f6f9933e2",
   "metadata": {},
   "source": [
    "# Notebook 8 FSM of M&M sorting machine\n",
    "---"
   ]
  },
  {
   "cell_type": "raw",
   "id": "586d7d2d-119d-4b35-9bc3-b2fd53a956ef",
   "metadata": {
    "tags": [],
    "vscode": {
     "languageId": "raw"
    }
   },
   "source": [
    "Put your names here:\n",
    "\n",
    "David en Akashhsh"
   ]
  },
  {
   "cell_type": "markdown",
   "id": "718bbbbf-5209-4399-9a9a-1a4d272769e3",
   "metadata": {},
   "source": [
    "In notebook 5 you learned how to setup a Finite State Machine for a reaction time tester. In this notebook you first made diagrams to define states, inputs and outputs. In this assignment you will do the same with the M&M sorting machine.\n",
    "\n",
    "Set up a state machine schematic of your M&M sorting machine. The sorting machine uses 2 servo’s. One to control the feed of the M&M’s and one to move the servo to the right bucket. In between the colour measurement is done. 25 M&M’s are provided in a vertical PVC tube with a release mechanism.\n",
    "Starting and stopping of the machine via push buttons. \n",
    "\n",
    "Read the requirements of the project carefully \n"
   ]
  },
  {
   "cell_type": "code",
   "execution_count": null,
   "id": "1bb259fd-1fbf-4078-8275-32e5a8f25fe2",
   "metadata": {},
   "outputs": [],
   "source": []
  },
  {
   "cell_type": "markdown",
   "id": "d05d064f-62fb-4037-9113-c07a0036a0d0",
   "metadata": {
    "tags": []
   },
   "source": [
    "---\n",
    "## Assignment 1 Set up FSM diagrams for the M&N sorting machine"
   ]
  },
  {
   "cell_type": "markdown",
   "id": "ae288b70-52be-45a4-aaff-0a7de1b95c41",
   "metadata": {},
   "source": [
    "---\n",
    "Define your states:"
   ]
  },
  {
   "cell_type": "markdown",
   "id": "6f140eb5-41d0-4243-a707-46e141643425",
   "metadata": {
    "tags": []
   },
   "source": [
    "S1: Measuring mnm\n",
    "S2: Turning input servo\n",
    "S3: Travelling from reservoir to camera\n",
    "S4: Turning output servo"
   ]
  },
  {
   "cell_type": "markdown",
   "id": "46559cdf-e1e6-47e9-ae50-1824cffc4a56",
   "metadata": {},
   "source": [
    "---\n",
    "Define your inputs (consider end-of-timers or counters also as inputs)"
   ]
  },
  {
   "cell_type": "markdown",
   "id": "4e08e172-0312-4d56-957e-4c80fa5075d2",
   "metadata": {
    "tags": []
   },
   "source": [
    "I1: Colour measuring done\n",
    "I2: Input servo turned timer\n",
    "I3: Mnm travel timer\n",
    "I4: Output servo turned timer"
   ]
  },
  {
   "cell_type": "markdown",
   "id": "605a346a-97b2-49a5-83aa-2f746cd37397",
   "metadata": {},
   "source": [
    "Define your outputs (consider messaging also as outputs):"
   ]
  },
  {
   "cell_type": "markdown",
   "id": "97f7bca4-865e-4b67-b6fe-fdcd3d6f22bc",
   "metadata": {
    "tags": []
   },
   "source": [
    "O1: Measuring done\n",
    "O2: Input servo turned\n",
    "O4: Mnm arrived at camera\n",
    "O3: Output servo turned"
   ]
  },
  {
   "cell_type": "markdown",
   "id": "3fb8d9c6-6ab5-432f-a704-05a2cc80c0bb",
   "metadata": {},
   "source": [
    "Create the State-transistion table. Put the states in the first colom and the inputs in the first row. Indicate per cell the Next State and the Ouput (like S2/O3)."
   ]
  },
  {
   "cell_type": "markdown",
   "id": "5d0a9af1-34eb-433d-87e1-869b043a63a6",
   "metadata": {},
   "source": [
    "|Current State \\ Input|I1|I2|I3|I4|\n",
    "|-----|-----|-----|-----|-----|\n",
    "|S1 |S4/O1|   |    |    |\n",
    "|S2 |   |S3/O2|    |    |\n",
    "|S3 |   |   |S1/O3||\n",
    "|S4 |   |   |   |S2/O4|"
   ]
  },
  {
   "cell_type": "markdown",
   "id": "9802a556-f4b4-4295-9e43-9e2964da61b5",
   "metadata": {},
   "source": [
    "Make a setup of your program in which the functions and states are defined (it's not needed to program the functions in detail)"
   ]
  },
  {
   "cell_type": "code",
   "execution_count": null,
   "id": "0c0541e4-81ff-44be-9d23-3b73b51f9baa",
   "metadata": {},
   "outputs": [],
   "source": [
    "# =============== YOUR CODE GOES HERE =================\n",
    "def MeasuringMNM():\n",
    "    global state, priorState\n",
    "    # If we are entering the state, do initialization stuff\n",
    "    if state != priorState:\n",
    "        priorState = state\n",
    "        print(\"measuring mnm\")\n",
    "        camera.measure\n",
    "        # do something at start of state\n",
    "    \n",
    "    \n",
    "    # Check for state transitions (check on events)\n",
    "    if camera.done:     \n",
    "        state = TURNOUTPUTSERVO\n",
    " \n",
    "    # If we are leaving the state, do clean up stuff\n",
    "    if (state != priorState):\n",
    "        pass # do something at end of state \n",
    "           \n",
    "def turnOutputServo():\n",
    "    global state, priorState\n",
    "    # If we are entering the state, do initialization stuff\n",
    "    if state != priorState:\n",
    "        priorState = state\n",
    "        print(\"turning output servo\")\n",
    "        outputServo.turn()\n",
    "        time = time.now\n",
    "        # do something at start of state\n",
    "    \n",
    "    # Check for state transitions (check on events)\n",
    "    if time - servotime > 0:     \n",
    "        state = TURNINPUTSERVO\n",
    " \n",
    "    # If we are leaving the state, do clean up stuff\n",
    "    if (state != priorState):\n",
    "        pass # do something at end of state        \n",
    "\n",
    "def turnInputServo():\n",
    "    global state, priorState\n",
    "    # If we are entering the state, do initialization stuff\n",
    "    if state != priorState:\n",
    "        priorState = state\n",
    "        print(\"turning input servo\")\n",
    "        inputservo.turn\n",
    "        time = time.now\n",
    "        # do something at start of state\n",
    "\n",
    "    \n",
    "    # Check for state transitions (check on events)\n",
    "    if time - servotime > 0:     \n",
    "        state = TRAVELSTATE\n",
    " \n",
    "    # If we are leaving the state, do clean up stuff\n",
    "    if (state != priorState):\n",
    "        pass # do something at end of state        \n",
    "    \n",
    "    \n",
    "def travelState():\n",
    "    global state, priorState\n",
    "    # If we are entering the state, do initialization stuff\n",
    "    if state != priorState:\n",
    "        priorState = state\n",
    "        print(\"mnm travelling\")\n",
    "        time  = time.now\n",
    "        # do something at start of state\n",
    "    \n",
    "    # Check for state transitions (check on events)\n",
    "    if time-traveltime > 0:     \n",
    "        state = MEASUREMNM\n",
    " \n",
    "    # If we are leaving the state, do clean up stuff\n",
    "    if (state != priorState):\n",
    "        pass # do something at end of state   \n",
    "\n",
    "\n",
    "while(1):\n",
    "    if state == MEASUREMNM:\n",
    "        MeasuringMNM()\n",
    "    elif state == TURNOUTPUTSERVO:\n",
    "        turnOutputServo()\n",
    "    elif state == TRAVELSTATE:\n",
    "        travelState()\n",
    "    elif state == TURNINPUTSERVO:\n",
    "        turnInputServo()"
   ]
  }
 ],
 "metadata": {
  "kernelspec": {
   "display_name": "CircuitPython",
   "language": "python",
   "name": "circuitpython"
  },
  "language_info": {
   "codemirror_mode": {
    "name": "python",
    "version": 3
   },
   "file_extension": ".py",
   "mimetype": "text/x-python",
   "name": "python",
   "pygments_lexer": "python3",
   "version": "3"
  }
 },
 "nbformat": 4,
 "nbformat_minor": 5
}
