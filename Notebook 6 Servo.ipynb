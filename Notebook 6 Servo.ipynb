{
 "cells": [
  {
   "cell_type": "markdown",
   "id": "2400c587-5bbb-4291-b088-a4e7f585416e",
   "metadata": {},
   "source": [
    "# NOTEBOOK 7 Servo's\n",
    "---\n",
    "This notebook consists of 2 assignments"
   ]
  },
  {
   "cell_type": "raw",
   "id": "d5317632-c569-4242-974e-2187220d9d4f",
   "metadata": {
    "tags": []
   },
   "source": [
    "Put your names here:\n",
    "\n",
    "    "
   ]
  },
  {
   "cell_type": "markdown",
   "id": "4c7747e3-40e4-47e8-80c1-b5bf8df1c6e6",
   "metadata": {},
   "source": [
    "## Introduction to servo's\n",
    "The M&M sorting machine controls it’s movements with servo’s. \n",
    "\n",
    "Servo's are little motors of which the rotor angle can be controlled (between 0 - 180 degrees). A servo is a control system in itself. A potentiometer on the output shaft is used to measure the angle of the output axis. \n",
    "> It is important to understand that there is no feedback of the actual servo position. So you don't know when the Servo \"arrives\" at the required angle.\n",
    "\n",
    "![servo1](https://i2.wp.com/www.az-delivery.de/cdn/shop/products/sg90-micro-servo-motor-9g-fur-rc-roboter-hubschrauber-flugzeug-539568.jpg?strip=all)\n",
    "![servo3](https://cdn.sparkfun.com/assets/custom_pages/5/6/0/servo-parts.jpg)\n",
    "\n",
    "The servo is controlled with a specific defined PWM signal. The frequency of the PWM is 50Hz and the pulsewidth varies between 1 and 2 ms.\n",
    "![servo](https://i3.wp.com/www.studiopieters.nl/wp-content/uploads/2021/12/SG90-Servo.png?strip=all)\n",
    "\n",
    "So the servo has 3 wires (V+, GND and (PWM)signal)\n",
    "![servo2](https://i3.wp.com/edistechlab.com/wp-content/uploads/2020/10/SG90-servo-Motor-vom-Buch-768x340.png?strip=all)\n",
    "\n",
    "To make life easy we will use a separate Feather board to control the servo's (up to 8). See https://learn.adafruit.com/adafruit-8-channel-pwm-or-servo-featherwing. This Feather wing produces the PWM signals. From the Feather wing is controlled via an I2C connection. On the Shield these connections are already made.\n",
    "\n",
    "Before continuing make sure your board's lib folder or root filesystem has the adafruit_pca9685.mpy, adafruit_register, adafruit_motor, adafruit_bus_device and adafruit_servokit files and folders copied over.\n",
    "\n",
    "The battery is required to provide the servo power (+5V).\n",
    "\n",
    "NB: there a 2 types of servo's: standard and continuous rotation. We use standard servo's."
   ]
  },
  {
   "cell_type": "markdown",
   "id": "58b9ff5d-f59f-4802-a8c4-1a701153bac2",
   "metadata": {},
   "source": [
    "In https://learn.adafruit.com/adafruit-8-channel-pwm-or-servo-featherwing/circuitpython#controlling-servos-3012505 the instructions are provided to control a standard servo.\n",
    "\n",
    "The servo is connected onto the Feather wing. \n",
    "\n",
    "Be aware of the pin connection. GND is at the edge of the board.\n",
    "\n",
    "You have 8 pins to choose from. To test run this example (servo on pin 0)"
   ]
  },
  {
   "cell_type": "code",
   "execution_count": null,
   "id": "aa515fac-4dbf-4d1d-a5ff-3973b5b5d717",
   "metadata": {},
   "outputs": [],
   "source": [
    "import time\n",
    "from adafruit_servokit import ServoKit\n",
    "\n",
    "# Set channels to the number of servo channels on your kit.\n",
    "kit = ServoKit(channels=8)\n",
    "\n",
    "while(1):\n",
    "    kit.servo[0].angle = 180\n",
    "    time.sleep(1)\n",
    "    kit.servo[0].angle = 0\n",
    "    time.sleep(1)"
   ]
  },
  {
   "cell_type": "markdown",
   "id": "d695e345-e23a-4c98-801d-3af14b1fe6a0",
   "metadata": {},
   "source": [
    "You will probably notice that the reach of the servo is less than the 0-180 degrees range. A servo is controlled by a PWM-signal. Default a frequency of 50Hz is used. The width (or better duration) of the on-pulse determines the servo angle. The specified pulse width range of a servo has historically been 1-2 ms, for a 90 degree range of motion. But nearly all modern servos have a 170-180 degree range, and the pulse widths can go well out of the range to achieve this extended motion. The default values here of 750 and 2250 typically give 135 degrees of motion, however this 135 degrees range is controlled with a 0- 180 degrees setting (by default). You can set actuation range to correspond to the actual range of motion you observe with your given min pulse and max pulse values in the object definition, e.g.: `kit.servo[0].set_pulse_width_range(1000, 2000)`"
   ]
  },
  {
   "cell_type": "code",
   "execution_count": null,
   "id": "c647f68f-c7b7-4c9d-bb46-467c189a19c1",
   "metadata": {},
   "outputs": [],
   "source": [
    "import time\n",
    "from adafruit_servokit import ServoKit\n",
    "\n",
    "# Set channels to the number of servo channels on your kit.\n",
    "kit = ServoKit(channels=8)\n",
    "\n",
    "# set range correctly\n",
    "kit.servo[0].set_pulse_width_range(200, 2800)\n",
    "while(1):\n",
    "    kit.servo[0].angle = 180\n",
    "    time.sleep(1)\n",
    "    kit.servo[0].angle = 0\n",
    "    time.sleep(1)"
   ]
  },
  {
   "cell_type": "markdown",
   "id": "c050a245-9f5a-48a8-809f-8554dda15eb9",
   "metadata": {
    "tags": []
   },
   "source": [
    "---\n",
    "## Assignment 1: Set Angle with a potentiometer\n",
    "Connect a potentiometer to the Feather and use this potentiometer to set the posisiton of the servo from 0 to 180 (true) degrees."
   ]
  },
  {
   "cell_type": "code",
   "execution_count": null,
   "id": "3e6a74b2-c6e8-4fa1-9ddc-3680b03584e5",
   "metadata": {},
   "outputs": [],
   "source": [
    "# =============== YOUR CODE GOES HERE =================\n",
    "# add comments to your code to explain algoritm\n",
    "\n",
    "import time\n",
    "from adafruit_servokit import ServoKit\n",
    "import board\n",
    "from analogio import AnalogIn\n",
    "\n",
    "analogPin = AnalogIn(board.A3)\n",
    "\n",
    "def get_angle(pin):\n",
    "    return (pin.value * 180) / 65535\n",
    "\n",
    "# Set channels to the number of servo channels on your kit.\n",
    "kit = ServoKit(channels=8)\n",
    "\n",
    "# set range correctly\n",
    "kit.servo[0].set_pulse_width_range(200, 2800)\n",
    "while(1):\n",
    "    kit.servo[0].angle = get_angle(analogPin)\n"
   ]
  },
  {
   "cell_type": "markdown",
   "id": "72e041d6-7d80-4c1d-b0b0-e64fee9eca8d",
   "metadata": {
    "tags": []
   },
   "source": [
    "---\n",
    "## Assignment 2: setup a test to determine the angular speed of the servo. Set up a function to calculate the time needed for the servo to turn over a certain angle\n",
    "\n",
    "Think of a clever way to determine the angular speed of the servo. Check also if there is any difference between the 2 servo's. From the results define a function"
   ]
  },
  {
   "cell_type": "code",
   "execution_count": null,
   "id": "b0867ea5-77e4-42ae-9bd8-d74f1acc0d8f",
   "metadata": {},
   "outputs": [],
   "source": [
    "# =============== YOUR CODE GOES HERE =================\n",
    "# add comments to your code to explain algoritm\n",
    "\n",
    "import time\n",
    "from adafruit_servokit import ServoKit\n",
    "\n",
    "# Set channels to the number of servo channels on your kit.\n",
    "kit = ServoKit(channels=8)\n",
    "timez = sum([0.367,0.380])/2\n",
    "\n",
    "def get_angspeed(timez):\n",
    "    return (3.1415)/timez\n",
    "\n",
    "def get_time_from_ang(angspeed, angle):\n",
    "    radians = (angle/180)*(3.1415)\n",
    "    return radians/angspeed\n",
    "    \n",
    "\n",
    "# set range correctly\n",
    "kit.servo[0].set_pulse_width_range(200, 2800)\n",
    "    \n",
    "    \n",
    "while(1):\n",
    "    #Trial and error Timez to see when the blade still goes back but also gets to the end. It shouldn't be cut off pre-emptifly\n",
    "    kit.servo[0].angle = 0\n",
    "    time.sleep(timez)\n",
    "    kit.servo[0].angle = 180\n",
    "    time.sleep(0.8)\n",
    "    \n",
    "    #Calculate the speed, 40 here can be varied. This is the angle in degrees. \n",
    "    print(get_time_from_ang(get_angspeed(timez), 40))"
   ]
  }
 ],
 "metadata": {
  "kernelspec": {
   "display_name": "CircuitPython",
   "language": "python",
   "name": "circuitpython"
  },
  "language_info": {
   "codemirror_mode": {
    "name": "python",
    "version": 3
   },
   "file_extension": ".py",
   "mimetype": "text/x-python",
   "name": "python",
   "pygments_lexer": "python3",
   "version": "3"
  }
 },
 "nbformat": 4,
 "nbformat_minor": 5
}
