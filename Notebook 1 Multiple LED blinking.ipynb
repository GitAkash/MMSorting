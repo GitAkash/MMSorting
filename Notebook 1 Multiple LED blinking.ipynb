{
 "cells": [
  {
   "cell_type": "markdown",
   "metadata": {
    "tags": []
   },
   "source": [
    "# NOTEBOOK 1 Blinking a LED without sleeping\n",
    "---\n",
    "This notebook contains 2 assignments"
   ]
  },
  {
   "cell_type": "raw",
   "metadata": {
    "tags": [],
    "vscode": {
     "languageId": "raw"
    }
   },
   "source": [
    "Put your names here:\n",
    "Akash, Deefgame\n",
    "    "
   ]
  },
  {
   "cell_type": "markdown",
   "metadata": {},
   "source": [
    "## Back to the blink script\n",
    "In the getting started notebook you used the blinking LED script. You will extend this script with multiple LED's each blinking at different freqencies. \n",
    "\n",
    "As you can see on the board several pins are availble to communicate with the outside world. Every pins has its own function and identification. A graphical overview of all the pins:\n",
    "\n",
    "![Feather board](https://cdn-learn.adafruit.com/assets/assets/000/101/973/large1024/arduino_compatibles_Feather_M4_Page.png?1619812505)\n",
    "\n",
    "In CircuitPython the pins (as shown above in the purple/green collors) have specific name to reference to (IDE names). Pin D13 is connected to the build in LED. To check pin names run this script in the REPL"
   ]
  },
  {
   "cell_type": "code",
   "execution_count": null,
   "metadata": {},
   "outputs": [],
   "source": [
    "# copy paste into REPL\n",
    "import board\n",
    "print(dir(board))"
   ]
  },
  {
   "cell_type": "code",
   "execution_count": null,
   "metadata": {},
   "outputs": [],
   "source": [
    "# =============== PASTE REPL OUTPUT HERE =================\n",
    "['__class__', '__name__', 'A0', 'A1', 'A2', 'A3', 'A4', 'A5', 'BATTERY', 'D0', 'D1', 'D10', 'D11', 'D12', 'D13', 'D14', 'D15', 'D16', 'D17', 'D18', 'D19', 'D23', 'D24', 'D25', 'D4', 'D5', 'D6', 'D9', 'I2C', 'LED', 'MISO', 'MOSI', 'NEOPIXEL', 'RX', 'SCK', 'SCL', 'SDA', 'SPI', 'TX', 'UART', 'VOLTAGE_MONITOR', '__dict__', 'board_id']"
   ]
  },
  {
   "cell_type": "markdown",
   "metadata": {},
   "source": [
    "Roughly speaking there are 2 types of pins: digital input/output and analog input. Digital pins (so called D-pins) are used to read or write digital signals (e.g. read a button and switch on/off a LED) Let's see how this is done in the LED blinking script"
   ]
  },
  {
   "cell_type": "code",
   "execution_count": null,
   "metadata": {},
   "outputs": [],
   "source": [
    "# copy past this into the code.py and save it\n",
    "import board\n",
    "import digitalio\n",
    "import time\n",
    "\n",
    "led = digitalio.DigitalInOut(board.LED)\n",
    "led.direction = digitalio.Direction.OUTPUT\n",
    "\n",
    "while True:\n",
    "    print(\"Hello, CircuitPython!\")\n",
    "    led.value = True\n",
    "    time.sleep(1)\n",
    "    led.value = False\n",
    "    time.sleep(1)"
   ]
  },
  {
   "cell_type": "markdown",
   "metadata": {},
   "source": [
    "First the required libraries are imported."
   ]
  },
  {
   "cell_type": "code",
   "execution_count": 2,
   "metadata": {
    "tags": []
   },
   "outputs": [],
   "source": [
    "import board\n",
    "import digitalio\n",
    "import time"
   ]
  },
  {
   "cell_type": "markdown",
   "metadata": {},
   "source": [
    "When you're using any kind of hardware peripherals wired up to your microcontroller board, the import list in your code will include `import board`. The `board` module is built into CircuitPython, and is used to provide access to a series of board-specific objects, including pins. Take a look at your microcontroller board. You'll notice that next to the pins are pin labels. You can always access a pin by its pin label. However, there are almost always multiple names for a given pin."
   ]
  },
  {
   "cell_type": "markdown",
   "metadata": {},
   "source": [
    "To use the digital in/out pins the library `digitalio` is used."
   ]
  },
  {
   "cell_type": "markdown",
   "metadata": {},
   "source": [
    "Create a `digitalio.DigitalInOut` object for the LED, it's located at Digitial Pin 13. When you look at the `board` module you see you can als use `LED`:"
   ]
  },
  {
   "cell_type": "code",
   "execution_count": null,
   "metadata": {},
   "outputs": [],
   "source": [
    "led = digitalio.DigitalInOut(board.LED)"
   ]
  },
  {
   "cell_type": "markdown",
   "metadata": {},
   "source": [
    "Because a LED is controlled by an output, we change the direction of `digitialio.Direction` to be an `OUTPUT`"
   ]
  },
  {
   "cell_type": "code",
   "execution_count": null,
   "metadata": {},
   "outputs": [],
   "source": [
    "led.direction = digitalio.Direction.OUTPUT"
   ]
  },
  {
   "cell_type": "markdown",
   "metadata": {},
   "source": [
    "Finally, let's turn it on by changing the value of the pin to `True` "
   ]
  },
  {
   "cell_type": "code",
   "execution_count": 5,
   "metadata": {},
   "outputs": [],
   "source": [
    "led.value = True"
   ]
  },
  {
   "cell_type": "markdown",
   "metadata": {},
   "source": [
    "Don't want the LED on? Turn it off by switching the value from `True` to `False`"
   ]
  },
  {
   "cell_type": "code",
   "execution_count": 6,
   "metadata": {},
   "outputs": [],
   "source": [
    "led.value = False"
   ]
  },
  {
   "cell_type": "markdown",
   "metadata": {},
   "source": [
    "To control the LED to switch on and off the `time` method is used. The function `time.sleep(seconds)` will block the script for `seconds` sec.\n",
    "\n",
    "The LED blinking can be automated when using `while` statement. In combination with the `time.sleep` command, the LED is blinking on and off."
   ]
  },
  {
   "cell_type": "markdown",
   "metadata": {},
   "source": [
    "To demonstrate the `print` function it prints out a message, which can be read via the Serial button in the MU-Editor"
   ]
  },
  {
   "cell_type": "markdown",
   "metadata": {},
   "source": [
    "---\n",
    "## Assignment 1\n",
    "\n",
    "Connect 3 LED’s to the Feather M4 with a resistor (see Introduction notebook) and extend the code to blink the three LEDs to blink at different frequencies (1, 2 and 5 Hz). Select the D-pins to be used yourselves."
   ]
  },
  {
   "cell_type": "code",
   "execution_count": 9,
   "metadata": {},
   "outputs": [],
   "source": [
    "# =============== COPY PASTE YOUR CODE FROM MU-EDITOR HERE =================\n",
    "import board\n",
    "from digitalio import DigitalInOut, Direction\n",
    "import time\n",
    "\n",
    "led_pins = [board.D4, board.D5, board.D6]\n",
    "frequencies = [2,7,20]\n",
    "\n",
    "leds = [DigitalInOut(pin) for pin in led_pins]\n",
    "\n",
    "for led in leds:\n",
    "    led.direction = Direction.OUTPUT # Only give output to the LEDS. \n",
    "\n",
    "last_toggle_times = [time.monotonic()] * len(leds) # Check the time of the blink.\n",
    "\n",
    "while True:\n",
    "    for i, led in enumerate(leds):\n",
    "        current_time = time.monotonic() # Track the current time.\n",
    "        if current_time - last_toggle_times[i] >= 1 / frequencies[i]: # Check if the time difference is equal to the frequency.\n",
    "            led.value = not led.value # Enable / Disable the LED.\n",
    "            last_toggle_times[i] = current_time # Set the time blinked to the last time toggled."
   ]
  },
  {
   "cell_type": "raw",
   "metadata": {
    "vscode": {
     "languageId": "raw"
    }
   },
   "source": [
    "==== Code evaluation ====\n",
    "Are the requirement met? Please explain why (not).\n",
    "\n",
    "Yes, they are. They all have been toggled individually so they can all blink at their own frequencies.\n",
    "\n"
   ]
  },
  {
   "cell_type": "markdown",
   "metadata": {},
   "source": [
    "## The problem with time.sleep()"
   ]
  },
  {
   "cell_type": "markdown",
   "metadata": {},
   "source": [
    "In the basic blink example script `time.sleep()` is used to set the on & off times. `time.sleep()` blocks the program while it is running. Nothing else can occur. In the basic blink example, this doesn’t matter so much because we aren’t trying to do anything else. But let’s say we wanted to add a second LED of third LED and blink it at a different rate while still continuing to blink the first. Using `time.sleep()` will cause trouble because each LED will have no choice but to wait for the sleep calls that are blinking the other. Their blink rates won’t ever be truly independent. How can we work around this problem? You need a so called multi tasking system. But how do you do that on a single processor unit? "
   ]
  },
  {
   "cell_type": "markdown",
   "metadata": {},
   "source": [
    "### Is it time yet?\n",
    "So we know that sleeping until it's time to act is causing trouble, but what we can we do to fix it? One possible solution is to change from sleeping to asking \"is it time yet\" over and over, just like an annoying sibling on a long car ride. \n",
    "\n",
    "Our program already has a \"main loop\" that will execute over and over very fast, or at least it would if we allow it to by not taking up time with long-running blocking things like time.sleep(). \n",
    "\n",
    "We can make use of `time.monotonic()` to check what time it is, then compare that against the last time we changed the LED to decide \"is it time yet\" to change the LED again. `time.monotonic()` gives the time in seconds since the program has started. The program structure will be something like this:"
   ]
  },
  {
   "cell_type": "code",
   "execution_count": null,
   "metadata": {},
   "outputs": [],
   "source": [
    "import board\n",
    "import digitalio\n",
    "import time\n",
    "\n",
    "led = digitalio.DigitalInOut(board.LED)\n",
    "led.direction = digitalio.Direction.OUTPUT\n",
    "\n",
    "prevTime = -1\n",
    "duration = 0.5\n",
    "\n",
    "while True:\n",
    "    # Store the current time to refer to later.\n",
    "    now = time.monotonic()\n",
    "    if (now-prevTime) > duration:\n",
    "        #do something\n",
    "        prevTime = now # store the current time into the previous time.\n",
    "        "
   ]
  },
  {
   "cell_type": "markdown",
   "metadata": {},
   "source": [
    "We have created a program structure in which the code never stops and always keeps running. If we want to check (for instance) a button press then this a easily inserted into the script. To make sure you will use this type of structures the following assignment is made (a fully multitasking system!)"
   ]
  },
  {
   "cell_type": "markdown",
   "metadata": {},
   "source": [
    "---\n",
    "## Assignment 2\n",
    "\n",
    "Connect 3 LED’s to the Feather M4 with a resistor (see Introduction notebook) and extend the code to include three LEDs that blink at different frequencies. The blinking frequency and the on/off ratio for each LED must be set by a random generator, with blinking frequencies ranging from 0.5 to 10 Hz. You should also print out the frequencies to the Serial monitor. Note that the use of the `time.sleep()` function is NOT allowed\n",
    "\n",
    "NB: the `random` module is part of the CircuitPython Built-Ins. See [Random library](https://learn.adafruit.com/circuitpython-essentials/circuitpython-built-ins#random-numbers-2986373)on how to use it."
   ]
  },
  {
   "cell_type": "code",
   "execution_count": 9,
   "metadata": {},
   "outputs": [],
   "source": [
    "# =============== COPY PASTE YOUR CODE FROM MU-EDITOR HERE =================\n",
    "import board, time, random\n",
    "from digitalio import DigitalInOut, Direction\n",
    "\n",
    "led_pins = [board.D4, board.D5, board.D6]\n",
    "frequencies = [random.uniform(0.5, 10), random.uniform(0.5, 10), random.uniform(0.5,10)]\n",
    "\n",
    "leds = [DigitalInOut(pin) for pin in led_pins]\n",
    "\n",
    "for i, led in enumerate(leds):\n",
    "    led.direction = Direction.OUTPUT # Only give output to the LEDS.\n",
    "    print(\"Led at pin {pinno} has a frequency of {freq}\".format(pinno = led_pins[i], freq = frequencies[i]))\n",
    "\n",
    "last_toggle_times = [time.monotonic()] * len(leds) # Check the time of the blink.\n",
    "\n",
    "while True:\n",
    "    for i, led in enumerate(leds):\n",
    "        current_time = time.monotonic() # Track the current time.\n",
    "        if current_time - last_toggle_times[i] >= 1 / frequencies[i]: # Check if the time difference is equal to the frequency.\n",
    "            led.value = not led.value # Enable / Disable the LED.\n",
    "            last_toggle_times[i] = current_time # Set the time blinked to the last time toggled.\n",
    "#test"
   ]
  },
  {
   "cell_type": "code",
   "execution_count": null,
   "metadata": {},
   "outputs": [],
   "source": [
    "# =============== COPY PASTE YOUR SERIAL OUTPUT FROM MU-EDITOR HERE =================\n",
    "Led at pin board.D4 has a frequency of 3.0914 Hz\n",
    "Led at pin board.D5 has a frequency of 6.62855 Hz\n",
    "Led at pin board.D6 has a frequency of 8.20674 Hz\n"
   ]
  }
 ],
 "metadata": {
  "kernelspec": {
   "display_name": "Python 3",
   "language": "python",
   "name": "python3"
  },
  "language_info": {
   "codemirror_mode": {
    "name": "ipython",
    "version": 3
   },
   "file_extension": ".py",
   "mimetype": "text/x-python",
   "name": "python",
   "nbconvert_exporter": "python",
   "pygments_lexer": "ipython3",
   "version": "3.10.14 (main, Nov 10 2011, 15:00:00) [GCC 12.2.0]"
  },
  "vscode": {
   "interpreter": {
    "hash": "e7370f93d1d0cde622a1f8e1c04877d8463912d04d973331ad4851f04de6915a"
   }
  }
 },
 "nbformat": 4,
 "nbformat_minor": 4
}
