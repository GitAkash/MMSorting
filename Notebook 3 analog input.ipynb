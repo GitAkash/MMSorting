{
 "cells": [
  {
   "cell_type": "markdown",
   "id": "8d8a49d4-1433-46e6-add3-ed268c48e5f2",
   "metadata": {},
   "source": [
    "# NOTEBOOK 4 Analog inputs\n",
    "---\n",
    "This notebook contains 3 assignments"
   ]
  },
  {
   "cell_type": "raw",
   "id": "778c7111-bc9e-4013-8afb-050b1c23912a",
   "metadata": {
    "tags": []
   },
   "source": [
    "Put your names here:\n",
    "\n",
    "    Akash, Deefgame"
   ]
  },
  {
   "cell_type": "markdown",
   "id": "13534c55-8a51-4fe1-a0e3-32dc2246cdba",
   "metadata": {},
   "source": [
    "Next to digital inputs and outputs, the Feather board is equipped with analog input pins (marked green) with a 16-bits Analog to Digital converter (in short AD-converter).\n",
    "![Feather board](https://cdn-learn.adafruit.com/assets/assets/000/101/973/large1024/arduino_compatibles_Feather_M4_Page.png?1619812505)\n",
    "\n",
    "Pins number A0..A5 are so called analog pins. These pins can read Voltages (0..3.3V) against ground (GND) and convert them to a integer number between 0 - 65535 (= $2^{16} − 1$). Next to that A0 and A1 can also generate voltages (0..3.3V) with a 10 bit Digital to Analog Converter (DAC). Use of analog in function is described here [circuitpython-analog-in](https://learn.adafruit.com/circuitpython-essentials/circuitpython-analog-in).\n",
    "\n",
    "To assign a analog port to a pin the  `analogio` library is used"
   ]
  },
  {
   "cell_type": "code",
   "execution_count": null,
   "id": "0032708a-a722-40d9-9e08-ba1a0ea958ce",
   "metadata": {},
   "outputs": [],
   "source": [
    "# copy past this into the code.py and save it\n",
    "import time\n",
    "import board\n",
    "from analogio import AnalogIn\n",
    "\n",
    "#define analog input pin, in this example pint A1\n",
    "analogPin = AnalogIn(board.A1)\n",
    "\n",
    "while(1):\n",
    "    print(analogPin.value)\n",
    "    time.sleep(0.2)\n",
    "    "
   ]
  },
  {
   "cell_type": "markdown",
   "id": "ec30cfa3-9b19-4a28-b0c6-ae16c5cb2146",
   "metadata": {},
   "source": [
    "Use `analogPin.value` to read the 16-bits value"
   ]
  },
  {
   "cell_type": "markdown",
   "id": "6d13e1e0-7308-47ab-a138-dc20fe487e21",
   "metadata": {},
   "source": [
    "---\n",
    "### Assignment 1\n",
    "\n",
    "In next cell an example script is given in which a analog pin is used. (To limit the output `while True:` is replaced by `for i in range(100)`) \n",
    "\n",
    "A function is defined to convert the 16-bits number to a voltage. **Add to the `def get_voltage(pin)` function a formula to read the analog voltage of that pin. Use `pin.value`**\n",
    "Reformat the output and create a graph of the data using the Data Graphing notebook. [Data Grahing notebook](/Data Graphing.ipynb)."
   ]
  },
  {
   "cell_type": "code",
   "execution_count": null,
   "id": "38bc6abb-62d8-47fc-ad86-7377d483e262",
   "metadata": {},
   "outputs": [],
   "source": [
    "# copy past this into the code.py and save it\n",
    "import time\n",
    "import board\n",
    "from analogio import AnalogIn\n",
    "\n",
    "#define analog input pin\n",
    "analogPin = AnalogIn(board.A1)\n",
    "\n",
    "\n",
    "def get_voltage(pin):\n",
    "     # add a formula to return the voltage of the pin. Use pin.value\n",
    "    return\n",
    "\n",
    "for i in range(100):    \n",
    "    print(get_voltage(analogPin))\n",
    "    time.sleep(0.1)"
   ]
  },
  {
   "cell_type": "code",
   "execution_count": null,
   "id": "6a50205c-dd7c-445d-879c-c47ef01027f0",
   "metadata": {},
   "outputs": [],
   "source": [
    "# =============== YOUR CODE GOES HERE =================\n",
    "import time\n",
    "import board\n",
    "from analogio import AnalogIn\n",
    "\n",
    "#define analog input pin\n",
    "analogPin = AnalogIn(board.A1)\n",
    "\n",
    "\n",
    "def get_voltage(pin):\n",
    "     # add a formula to return the voltage of the pin. Use pin.value\n",
    "    return (pin.value * 3.3) / 65536\n",
    "\n",
    "for i in range(100):    \n",
    "    print(get_voltage(analogPin))\n",
    "    time.sleep(0.1)\n"
   ]
  },
  {
   "cell_type": "markdown",
   "id": "405bee91-fbd0-4114-8127-d66041d7ac37",
   "metadata": {},
   "source": [
    "Paste your graph here (Right click and select `Paste Cells Below`"
   ]
  },
  {
   "cell_type": "markdown",
   "id": "00a2cbb8-857c-4051-bf12-8af1da38bd61",
   "metadata": {},
   "source": [
    "## PWM output\n",
    "---\n"
   ]
  },
  {
   "cell_type": "markdown",
   "id": "1d9e9b0f-8ec7-42d4-a70e-3ef8affa9242",
   "metadata": {},
   "source": [
    "We mentioned the digital input and output functions and analog input and output before. Analog output can only be used by A0 and A1 pins. We can also use digital pins to mimic an analog output with a so called PWM function. PWM stand for Pulse Width Modulation and it is used for digital pins only.\n",
    "\n",
    "A PWM signal (Pulse Width Modulation) is characterized by a pulse width and pulse frequency\n",
    "\n",
    "![alt text](http://gadgetronicx.com/wp-content/uploads/2015/02/pwm-signal.png)\n",
    "\n",
    "The pulse width (or duty cycle) is the percentage on of the whole cycle and the frequency is the frequency of the cycle.\n",
    "\n",
    "The average voltage is linear with the duty cycle of the PWM signal.\n",
    "\n",
    "The nice thing of a PWM-signal is that it is \"build in\" into the microprocessor so you don't have to care about the timing of the pulses. The pulse frequency ranges from 100 Hz - 10 kHz. It can be used to control LED intensitie, generate sounds, etc.\n",
    "\n",
    "Not every digital pin of the Feather M4 board can be used as a PWM pin. In the pinout diagram above the PWM pins are marked with a -~-"
   ]
  },
  {
   "cell_type": "markdown",
   "id": "87f90b91-a5cd-4a04-b622-25de7326befc",
   "metadata": {},
   "source": [
    "To use PWM pins in `CircuitPython` you need to use the `pwmio` library. See [circuitpython-pwm](https://learn.adafruit.com/circuitpython-essentials/circuitpython-pwm) for more details.This library is part of the Build In libraries so not further action is required. \n",
    "\n",
    "First the library is installed and the pin is defined. See belows example.\n",
    "\n",
    "Since we're using the onboard LED, we'll call the object `led`. Use `pwmio.PWMOut` to create the output and pass in the D13 LED pin to use. If you want to change frequency you have to assign this explicitly"
   ]
  },
  {
   "cell_type": "code",
   "execution_count": null,
   "id": "20b0b75e-54fa-40c6-a1a3-59ec2be36ba8",
   "metadata": {},
   "outputs": [],
   "source": [
    "import time\n",
    "import board\n",
    "import pwmio\n",
    "\n",
    "# LED setup D13 is the build in LED:\n",
    "led = pwmio.PWMOut(board.D13, frequency=5000, duty_cycle=0, variable_frequency=True) # explicit indicate use of variable frequency.\n"
   ]
  },
  {
   "cell_type": "markdown",
   "id": "4294b6da-fb33-4377-a464-640059c7be68",
   "metadata": {},
   "source": [
    "The duty_cycle is controlled with a 16-bit number ranging from 0 (0%) to 65535 (100%)"
   ]
  },
  {
   "cell_type": "code",
   "execution_count": null,
   "id": "60de855e-2ccf-4856-9fd5-f4ed68abfe2d",
   "metadata": {},
   "outputs": [],
   "source": [
    "led.duty_cycle = 65535/2 # a number between 0 (0%) to 65535 (100%)\n",
    "led.frequency = 1000"
   ]
  },
  {
   "cell_type": "markdown",
   "id": "dd0c0da2-a5cb-43a5-bc0e-a2401acf095e",
   "metadata": {},
   "source": [
    "---\n",
    "### Assignment 2\n",
    "\n",
    "For this assignment you need a potentiometer. Use the Introduction notebook on how to wire a potentiometer. Make a script to use a potentiometer (via analog in) to make a dimmable LED (you can use D13 or an external LED)"
   ]
  },
  {
   "cell_type": "code",
   "execution_count": null,
   "id": "3a9adb43-b8f3-44b1-8123-8309cadcc475",
   "metadata": {},
   "outputs": [],
   "source": [
    "# =============== YOUR CODE GOES HERE =================\n",
    "import time\n",
    "import board\n",
    "from analogio import AnalogIn\n",
    "import pwmio\n",
    "#define analog input pin\n",
    "analogPin = AnalogIn(board.A0)\n",
    "\n",
    "led = pwmio.PWMOut(board.D0, frequency=5000, duty_cycle=0, variable_frequency=True) # explicit indicate use of variable frequency.\n",
    "led.frequency = 1000\n",
    "\n",
    "def get_voltage(pin):\n",
    "     # add a formula to return the voltage of the pin. Use pin.value\n",
    "    return (pin.value * 3.3) / 65536\n",
    "\n",
    "while True:\n",
    "    print(get_voltage(analogPin), analogPin.value)\n",
    "    time.sleep(0.1)\n",
    "    led.duty_cycle = analogPin.value\n",
    "\n"
   ]
  },
  {
   "cell_type": "markdown",
   "id": "0871415c-c6ef-4b32-888a-b1b28a0a9366",
   "metadata": {},
   "source": [
    "## Maximum sample frequency / counter\n",
    "---"
   ]
  },
  {
   "cell_type": "markdown",
   "id": "9be1ab68-0ba0-4155-b538-c2bcc70ee392",
   "metadata": {},
   "source": [
    "In many applications sensor data is sampled at a certain frequency (= sample frequency). The higher the sensor data frequencies, the higher the sample frequency must be. The Nyquist–Shannon sampling theorem is an essential principle for digital signal processing linking the frequency range of a signal and the sample rate required to avoid a type of distortion called aliasing. The theorem states that the sample rate must be at least twice the bandwidth of the signal to avoid aliasing (ref [wikipedia Nyquist](https://en.wikipedia.org/wiki/Nyquist–Shannon_sampling_theorem)).\n",
    "\n",
    "In this assignement you will use a PWM signal to blink a LED and use a photo diode to measure the pulse frequency. You will optimise your code to read (reliably) the highest PWM frequency as possible. \n",
    "\n",
    "In this assignment you will use your own creativity to find the right solution.\n"
   ]
  },
  {
   "cell_type": "markdown",
   "id": "e9956fc8-3514-40a3-a3a8-16b6b154471f",
   "metadata": {},
   "source": [
    "---\n",
    "### Assignment 3\n",
    "\n",
    "Wire a LED to a PWM-pin. Connect a photo-diode to an analog pin (long wire is the anode) with a series resistor of 1k. Use the Introduction notebook on how to wire a photo-diode. Bend the LED horizontally so that the light from the LED is measured by the photo-diode. In the next cells the steps to take are described.\n",
    "\n",
    "Some (helpfull) tips:\n",
    "- take multiple samples (> 100) of a signal to get reliable sample frequencies\n",
    "- printing data to the monitor is very time consuming\n",
    "- use the time library to measure times (e.g. `time.monotonic()`)\n",
    "\n",
    "Remarks:\n",
    ">numpy is not available in `CircuitPython`. If you want to use array use lists (If you want to use numpy, you can use the core module ulab instead https://learn.adafruit.com/ulab-crunch-numbers-fast-with-circuitpython/overview. Use ```from ulab import numpy as np```)\n",
    "\n"
   ]
  },
  {
   "cell_type": "markdown",
   "id": "574ccf45-6ab8-4a88-bd4b-0e790a298167",
   "metadata": {},
   "source": [
    "Follow these steps:\n",
    "1. Build a system in which a LED is blinking with a PWM frequency and in which the photo-diode is used to measure light intensities in time\n",
    "2. Make a plot of the photo-diode signal against time. Use this plot to analyse the photo diode signal. Use the Data Graphing notebook Paste your graph  (Right click and select `Paste Cells Below`)"
   ]
  },
  {
   "cell_type": "code",
   "execution_count": null,
   "id": "19330855-4c7d-4ba2-ac0b-ec79d817b96f",
   "metadata": {},
   "outputs": [],
   "source": [
    "# =============== YOUR CODE GOES HERE =================\n",
    "# use comments to explian your code.\n",
    "import time\n",
    "import board\n",
    "import pwmio\n",
    "from analogio import AnalogIn\n",
    "from digitalio import DigitalInOut, Direction, Pull\n",
    "\n",
    "sensor = AnalogIn(board.A3)\n",
    "\n",
    "led = pwmio.PWMOut(board.D11, frequency = 100, duty_cycle=int(65536/2), variable_frequency=True) # explicit indicate use of variable frequency.\n",
    "led.frequency = 100\n",
    "\n",
    "current_time = time.monotonic()\n",
    "while True:\n",
    "    print(((sensor.value),))\n",
    "    time.sleep(0.05)"
   ]
  },
  {
   "attachments": {
    "image.png": {
     "image/png": "[encoded data removed]"
    }
   },
   "cell_type": "markdown",
   "id": "ca24d6bd",
   "metadata": {},
   "source": [
    "![image.png](attachment:image.png)"
   ]
  },
  {
   "cell_type": "markdown",
   "id": "d95996b5-3e43-4d5c-9007-12cbf5c19ced",
   "metadata": {},
   "source": [
    "3. Build a pulse counting function to determine PWM frequency from the photo-diode measurements. Report the measured pulse frequency and compare this with the PWM frequency to check your pulse counting function. Keep PWM frequency low."
   ]
  },
  {
   "cell_type": "code",
   "execution_count": null,
   "id": "724cabf7-86f6-4105-9c4d-b6caf5107452",
   "metadata": {},
   "outputs": [],
   "source": [
    "# =============== YOUR CODE GOES HERE =================\n",
    "# use comments to explian your code. \n",
    "# pulse counting function\n",
    "\n",
    "import time\n",
    "import board\n",
    "import pwmio\n",
    "from analogio import AnalogIn\n",
    "from digitalio import DigitalInOut, Direction, Pull\n",
    "\n",
    "sensor = AnalogIn(board.A3)\n",
    "\n",
    "led = pwmio.PWMOut(board.D11, frequency = 300, duty_cycle=int(65536/2), variable_frequency=True) # explicit indicate use of variable frequency.\n",
    "\n",
    "\n",
    "# Function to count rising edges within a time interval\n",
    "def count_edges(interval):\n",
    "    start_time = time.monotonic()\n",
    "    count = 0\n",
    "    while (time.monotonic() - start_time) < interval:\n",
    "        if sensor.value > 2000:  # Adjust threshold as needed\n",
    "            count += 1\n",
    "            while sensor.value > 2000:  # Wait for signal to drop\n",
    "                time.sleep(0.05)\n",
    "                pass\n",
    "        time.sleep(0.05)\n",
    "    return count\n",
    "\n",
    "# Main loop\n",
    "while True:\n",
    "    # Print voltage and value of sensor\n",
    "    # print(\"Voltage:\", get_voltage(sensor), \"Value:\", sensor.value)\n",
    "    \n",
    "    # Measure pulse frequency\n",
    "    interval = 1  # Time interval in seconds\n",
    "    pulse_count = count_edges(interval)\n",
    "    pulse_frequency = pulse_count / interval\n",
    "    \n",
    "    print(\"Pulse Frequency:\", pulse_frequency, \"Hz\")\n",
    "    \n",
    "    time.sleep(0.1)  # Adjust sleep time as needed"
   ]
  },
  {
   "cell_type": "code",
   "execution_count": null,
   "id": "84591521-d3e7-4ff6-bf4d-9ed6e9a10989",
   "metadata": {},
   "outputs": [],
   "source": [
    "# =============== YOUR OUTPUT GOES HERE ================\n",
    "Pulse Frequency: 300.0 Hz\n",
    "Pulse Frequency: 300.0 Hz\n",
    "Pulse Frequency: 300.0 Hz"
   ]
  },
  {
   "cell_type": "markdown",
   "id": "816f3574-7529-4d89-b6e3-0a872522a6bf",
   "metadata": {},
   "source": [
    "4. Optimize your code to get the highest sample frequency as possible. Be creative to find the best solution.\n",
    "5. Make a plot of the measured frequency against PWM frequency. Use the Data Graphing notebook. Paste your graph  (Right click and select `Paste Cells Below` "
   ]
  },
  {
   "cell_type": "code",
   "execution_count": null,
   "id": "51b50341-45e5-45b4-92dd-2c31648c39ef",
   "metadata": {},
   "outputs": [],
   "source": [
    "# =============== YOUR CODE GOES HERE =================\n",
    "# use comments to explian your code. \n",
    "import time\n",
    "import board\n",
    "import pwmio\n",
    "from analogio import AnalogIn\n",
    "from digitalio import DigitalInOut, Direction, Pull\n",
    "\n",
    "sensor = AnalogIn(board.A3)\n",
    "\n",
    "led = pwmio.PWMOut(board.D11, frequency = 150, duty_cycle=int(65536/2), variable_frequency=True) # explicit indicate use of variable frequency.\n",
    "\n",
    "\n",
    "# Function to count rising edges within a time interval\n",
    "def count_edges(interval):\n",
    "    start_time = time.monotonic()\n",
    "    count = 0\n",
    "    while (time.monotonic() - start_time) < interval:\n",
    "        if sensor.value > 2000:  # Adjust threshold as needed\n",
    "            count += 1\n",
    "            while sensor.value > 2000:  # Wait for signal to drop\n",
    "                time.sleep(1/(150*2)) #time.sleep is used to demonstrate sampling frequency\n",
    "                pass\n",
    "        time.sleep(1/(150*2))\n",
    "    return count\n",
    "\n",
    "# Main loop\n",
    "while True:\n",
    "    # Print voltage and value of sensor\n",
    "    # print(\"Voltage:\", get_voltage(sensor), \"Value:\", sensor.value)\n",
    "    \n",
    "    # Measure pulse frequency\n",
    "    interval = 1  # Time interval in seconds\n",
    "    pulse_count = count_edges(interval) #count the number of upward edges\n",
    "    pulse_frequency = pulse_count / interval\n",
    "    \n",
    "    print(\"Pulse Frequency:\", pulse_frequency, \"Hz\")\n",
    "    \n",
    "    time.sleep(0.1)  # Adjust sleep time as needed"
   ]
  },
  {
   "attachments": {},
   "cell_type": "markdown",
   "id": "0264fdee-50d5-4e9f-927d-414beb011edf",
   "metadata": {},
   "source": [
    "# Answer the following question: \n",
    "\n",
    "- What is your maximum sample frequency?\n",
    "the maximum sample frequency is high enough to measure the highest pwm frequency allowed by the pwm module, which is 10 kHz.\n",
    "- What is the maximum PWM frequency your can measure reliably?\n",
    "10 kHz\n",
    "- Is this according to Nyquist–Shannon sampling theorem? Explain!\n",
    "When an artificial sampling frequency is added using a sleep function to simulate a certain sampling frequency, it can be found that when the sampling frequency is less than two times the frequency that is measured, the results get unreliable. This is in accordance with the Nyquist-Nyquist–Shannon theorem.\n",
    "    "
   ]
  }
 ],
 "metadata": {
  "kernelspec": {
   "display_name": "Python 3",
   "language": "python",
   "name": "python3"
  },
  "language_info": {
   "codemirror_mode": {
    "name": "python",
    "version": 3
   },
   "file_extension": ".py",
   "mimetype": "text/x-python",
   "name": "python",
   "pygments_lexer": "python3",
   "version": "3.10.14 (main, Nov 10 2011, 15:00:00) [GCC 12.2.0]"
  },
  "vscode": {
   "interpreter": {
    "hash": "e7370f93d1d0cde622a1f8e1c04877d8463912d04d973331ad4851f04de6915a"
   }
  }
 },
 "nbformat": 4,
 "nbformat_minor": 5
}
